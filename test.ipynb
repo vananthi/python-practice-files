{
  "nbformat": 4,
  "nbformat_minor": 0,
  "metadata": {
    "colab": {
      "provenance": [],
      "authorship_tag": "ABX9TyPtp/tjcG6InPrg+bvQLzFS",
      "include_colab_link": true
    },
    "kernelspec": {
      "name": "python3",
      "display_name": "Python 3"
    },
    "language_info": {
      "name": "python"
    }
  },
  "cells": [
    {
      "cell_type": "markdown",
      "metadata": {
        "id": "view-in-github",
        "colab_type": "text"
      },
      "source": [
        "<a href=\"https://colab.research.google.com/github/vananthi/python-practice-files/blob/main/test.ipynb\" target=\"_parent\"><img src=\"https://colab.research.google.com/assets/colab-badge.svg\" alt=\"Open In Colab\"/></a>"
      ]
    },
    {
      "cell_type": "code",
      "execution_count": 2,
      "metadata": {
        "colab": {
          "base_uri": "https://localhost:8080/"
        },
        "id": "o5ZhMGD-ldHE",
        "outputId": "7f9c680d-2bce-4b01-b90b-6a52919e182a"
      },
      "outputs": [
        {
          "output_type": "stream",
          "name": "stdout",
          "text": [
            "enter the  celsius value:67\n",
            "67.0 celsius  is equal to 152.60000000000002 fahrenheit\n"
          ]
        }
      ],
      "source": [
        "# Write a python programme convert celsius to fahrenheit\n",
        "celsius=float(input(\"enter the  celsius value:\"))\n",
        "fahrenheit=(celsius*1.8)+32 # convert celsius to fahrenheit\n",
        "print(celsius,\"celsius \",\"is equal to\",fahrenheit,\"fahrenheit\")"
      ]
    },
    {
      "cell_type": "code",
      "source": [
        "# Write a python programme to find positive,negative or zero\n",
        "a=float(input(\"enter the value:\")) # to find positive,negative or zero\n",
        "if a>=0:\n",
        "  print(a,\"is a positive value\")\n",
        "elif a==0:\n",
        "  print(a,\"is a zero value\")\n",
        "else:\n",
        "  print(a,\"is a negative value\")"
      ],
      "metadata": {
        "colab": {
          "base_uri": "https://localhost:8080/"
        },
        "id": "K_4w8o9qxoph",
        "outputId": "1b1687d4-ecfa-4be1-a85b-7ec89557fc7b"
      },
      "execution_count": 3,
      "outputs": [
        {
          "output_type": "stream",
          "name": "stdout",
          "text": [
            "enter the value:78\n",
            "78.0 is a positive value\n"
          ]
        }
      ]
    },
    {
      "cell_type": "code",
      "source": [
        "# write a python programme to find large number\n",
        "num_1=float(input(\"enter the first number:\")) # to find large number\n",
        "num_2=float(input(\"enter the second number:\"))\n",
        "num_3=float(input(\"enter the third number:\"))\n",
        "if (num_1>=num_2) and (num_1>=num_3):\n",
        "  print(num_1,\"is a  large value\")\n",
        "elif (num_2>=num_1) and (num_2>=num_3):\n",
        "  print(num_2,\"is a large value\")\n",
        "else:\n",
        "  print(num_3,\"is a large value\")"
      ],
      "metadata": {
        "colab": {
          "base_uri": "https://localhost:8080/"
        },
        "id": "nrBiD4yz09HZ",
        "outputId": "70f8a8da-87b3-44e8-d86c-54e97cd202c6"
      },
      "execution_count": null,
      "outputs": [
        {
          "output_type": "stream",
          "name": "stdout",
          "text": [
            "enter the first number:23\n",
            "enter the second number:5\n",
            "enter the third number:100\n",
            "100.0 is a large value\n"
          ]
        }
      ]
    }
  ]
}