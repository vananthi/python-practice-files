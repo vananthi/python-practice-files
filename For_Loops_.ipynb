{
  "nbformat": 4,
  "nbformat_minor": 0,
  "metadata": {
    "kernelspec": {
      "display_name": "Python 3",
      "language": "python",
      "name": "python3"
    },
    "language_info": {
      "codemirror_mode": {
        "name": "ipython",
        "version": 3
      },
      "file_extension": ".py",
      "mimetype": "text/x-python",
      "name": "python",
      "nbconvert_exporter": "python",
      "pygments_lexer": "ipython3",
      "version": "3.6.4"
    },
    "colab": {
      "provenance": [],
      "include_colab_link": true
    }
  },
  "cells": [
    {
      "cell_type": "markdown",
      "metadata": {
        "id": "view-in-github",
        "colab_type": "text"
      },
      "source": [
        "<a href=\"https://colab.research.google.com/github/vananthi/python-practice-files/blob/main/For_Loops_.ipynb\" target=\"_parent\"><img src=\"https://colab.research.google.com/assets/colab-badge.svg\" alt=\"Open In Colab\"/></a>"
      ]
    },
    {
      "cell_type": "code",
      "source": [
        "a = [4,6,7,8]\n",
        "for i in a:\n",
        "  print(i*2)"
      ],
      "metadata": {
        "colab": {
          "base_uri": "https://localhost:8080/"
        },
        "id": "ApoW0xPo221M",
        "outputId": "48e96c8c-b736-49eb-c680-2b8c3b973725"
      },
      "execution_count": null,
      "outputs": [
        {
          "output_type": "stream",
          "name": "stdout",
          "text": [
            "8\n",
            "12\n",
            "14\n",
            "16\n"
          ]
        }
      ]
    },
    {
      "cell_type": "code",
      "source": [
        "print(a)"
      ],
      "metadata": {
        "colab": {
          "base_uri": "https://localhost:8080/"
        },
        "id": "BNVqBTNP8P3e",
        "outputId": "92296734-bb86-42f6-ccec-81fcc2061201"
      },
      "execution_count": null,
      "outputs": [
        {
          "output_type": "stream",
          "name": "stdout",
          "text": [
            "[4, 6, 7, 8]\n"
          ]
        }
      ]
    },
    {
      "cell_type": "code",
      "source": [
        "a.keys()"
      ],
      "metadata": {
        "colab": {
          "base_uri": "https://localhost:8080/",
          "height": 169
        },
        "id": "wzMDz8Z18Xi3",
        "outputId": "687973ac-0e25-4ebf-f6a2-9ac0ed506a12"
      },
      "execution_count": null,
      "outputs": [
        {
          "output_type": "error",
          "ename": "AttributeError",
          "evalue": "ignored",
          "traceback": [
            "\u001b[0;31m---------------------------------------------------------------------------\u001b[0m",
            "\u001b[0;31mAttributeError\u001b[0m                            Traceback (most recent call last)",
            "\u001b[0;32m<ipython-input-12-27ddd10295a4>\u001b[0m in \u001b[0;36m<cell line: 1>\u001b[0;34m()\u001b[0m\n\u001b[0;32m----> 1\u001b[0;31m \u001b[0ma\u001b[0m\u001b[0;34m.\u001b[0m\u001b[0mkeys\u001b[0m\u001b[0;34m(\u001b[0m\u001b[0;34m)\u001b[0m\u001b[0;34m\u001b[0m\u001b[0;34m\u001b[0m\u001b[0m\n\u001b[0m",
            "\u001b[0;31mAttributeError\u001b[0m: 'list' object has no attribute 'keys'"
          ]
        }
      ]
    },
    {
      "cell_type": "code",
      "source": [
        "type(a)"
      ],
      "metadata": {
        "colab": {
          "base_uri": "https://localhost:8080/"
        },
        "id": "-qMrn8ab2-Bo",
        "outputId": "afba5341-54fb-40b0-f784-fb33ccf93b39"
      },
      "execution_count": null,
      "outputs": [
        {
          "output_type": "execute_result",
          "data": {
            "text/plain": [
              "tuple"
            ]
          },
          "metadata": {},
          "execution_count": 8
        }
      ]
    },
    {
      "cell_type": "code",
      "metadata": {
        "id": "eKNOW_mSaiTT"
      },
      "source": [
        "nums = [0,2,4,6,8,10,12,14,16,18,20]  # for,while , else,continue break , if, elif else  = datastructure"
      ],
      "execution_count": null,
      "outputs": []
    },
    {
      "cell_type": "code",
      "metadata": {
        "colab": {
          "base_uri": "https://localhost:8080/"
        },
        "id": "KD-loSGRaiTZ",
        "outputId": "c25b5c49-99ad-4434-c725-7d890c3a01e1"
      },
      "source": [
        "for i in nums: # for.. variablename in(keyword) data holdervariable:\n",
        "    print (i+5)    # for(i = 0 ; i<=10, i++)"
      ],
      "execution_count": null,
      "outputs": [
        {
          "output_type": "stream",
          "name": "stdout",
          "text": [
            "5\n",
            "7\n",
            "9\n",
            "11\n",
            "13\n",
            "15\n",
            "17\n",
            "19\n",
            "21\n",
            "23\n",
            "25\n"
          ]
        }
      ]
    },
    {
      "cell_type": "code",
      "source": [
        "s = {4,6,7,9,10}\n",
        "for j in s:\n",
        "  print(j+5)"
      ],
      "metadata": {
        "colab": {
          "base_uri": "https://localhost:8080/"
        },
        "id": "JZTG5GB_OzJy",
        "outputId": "f5f0a111-e5f1-4840-8ed2-b3a8fd8ee178"
      },
      "execution_count": null,
      "outputs": [
        {
          "output_type": "stream",
          "name": "stdout",
          "text": [
            "9\n",
            "11\n",
            "12\n",
            "14\n",
            "15\n"
          ]
        }
      ]
    },
    {
      "cell_type": "code",
      "source": [
        "t =[1,2,3,4,5,6,7,8,9,10]\n",
        "for k in t:\n",
        "  print(k*12) # 1*12 = 12"
      ],
      "metadata": {
        "colab": {
          "base_uri": "https://localhost:8080/"
        },
        "id": "9g7JJARcPS7d",
        "outputId": "a69f93f0-1b8f-432a-8224-fef105a3f2f1"
      },
      "execution_count": null,
      "outputs": [
        {
          "output_type": "stream",
          "name": "stdout",
          "text": [
            "12\n",
            "24\n",
            "36\n",
            "48\n",
            "60\n",
            "72\n",
            "84\n",
            "96\n",
            "108\n",
            "120\n"
          ]
        }
      ]
    },
    {
      "cell_type": "code",
      "source": [],
      "metadata": {
        "id": "MzIZtm-lPNte"
      },
      "execution_count": null,
      "outputs": []
    },
    {
      "cell_type": "code",
      "metadata": {
        "colab": {
          "base_uri": "https://localhost:8080/"
        },
        "id": "JE-Ag5aXaiTb",
        "outputId": "f18ca0c6-1b81-4a75-ea21-5bc2d51ebc12"
      },
      "source": [
        "nums=(0,2,4,6,8,10,11)\n",
        "for n in nums: #usd n\n",
        "    print (n,end=\",\")  # / continuation /n"
      ],
      "execution_count": 2,
      "outputs": [
        {
          "output_type": "stream",
          "name": "stdout",
          "text": [
            "0,2,4,6,8,10,11,"
          ]
        }
      ]
    },
    {
      "cell_type": "code",
      "metadata": {
        "colab": {
          "base_uri": "https://localhost:8080/"
        },
        "id": "OXRunscXJWqp",
        "outputId": "3b19e915-0ff3-455e-a28a-465e1497d916"
      },
      "source": [
        "for num in range(20): # range (5 ) = 0 to 4\n",
        "    print(num*9)"
      ],
      "execution_count": null,
      "outputs": [
        {
          "output_type": "stream",
          "name": "stdout",
          "text": [
            "0\n",
            "9\n",
            "18\n",
            "27\n",
            "36\n",
            "45\n",
            "54\n",
            "63\n",
            "72\n",
            "81\n",
            "90\n",
            "99\n",
            "108\n",
            "117\n",
            "126\n",
            "135\n",
            "144\n",
            "153\n",
            "162\n",
            "171\n"
          ]
        }
      ]
    },
    {
      "cell_type": "code",
      "source": [
        "a = range(20)\n",
        "a"
      ],
      "metadata": {
        "colab": {
          "base_uri": "https://localhost:8080/"
        },
        "id": "uHkFf-DODMos",
        "outputId": "5230a503-f086-4ea1-b341-800fcee82390"
      },
      "execution_count": null,
      "outputs": [
        {
          "output_type": "execute_result",
          "data": {
            "text/plain": [
              "range(0, 20)"
            ]
          },
          "metadata": {},
          "execution_count": 6
        }
      ]
    },
    {
      "cell_type": "code",
      "source": [
        "for i in range(10,100,5):# range ( start, end-1, steps) 10 ,15,20,.....95\n",
        "  print(i)"
      ],
      "metadata": {
        "colab": {
          "base_uri": "https://localhost:8080/"
        },
        "id": "b2TxQXyRvgmT",
        "outputId": "33d519af-6550-4e44-8021-052488e697ad"
      },
      "execution_count": null,
      "outputs": [
        {
          "output_type": "stream",
          "name": "stdout",
          "text": [
            "10\n",
            "15\n",
            "20\n",
            "25\n",
            "30\n",
            "35\n",
            "40\n",
            "45\n",
            "50\n",
            "55\n",
            "60\n",
            "65\n",
            "70\n",
            "75\n",
            "80\n",
            "85\n",
            "90\n",
            "95\n"
          ]
        }
      ]
    },
    {
      "cell_type": "code",
      "source": [
        "for abcd in range(1,100,2):\n",
        "  print(abcd)"
      ],
      "metadata": {
        "colab": {
          "base_uri": "https://localhost:8080/"
        },
        "id": "xaaHg1Vc-OOE",
        "outputId": "b996a17d-3285-4739-ca45-6832ad941370"
      },
      "execution_count": null,
      "outputs": [
        {
          "output_type": "stream",
          "name": "stdout",
          "text": [
            "1\n",
            "3\n",
            "5\n",
            "7\n",
            "9\n",
            "11\n",
            "13\n",
            "15\n",
            "17\n",
            "19\n",
            "21\n",
            "23\n",
            "25\n",
            "27\n",
            "29\n",
            "31\n",
            "33\n",
            "35\n",
            "37\n",
            "39\n",
            "41\n",
            "43\n",
            "45\n",
            "47\n",
            "49\n",
            "51\n",
            "53\n",
            "55\n",
            "57\n",
            "59\n",
            "61\n",
            "63\n",
            "65\n",
            "67\n",
            "69\n",
            "71\n",
            "73\n",
            "75\n",
            "77\n",
            "79\n",
            "81\n",
            "83\n",
            "85\n",
            "87\n",
            "89\n",
            "91\n",
            "93\n",
            "95\n",
            "97\n",
            "99\n"
          ]
        }
      ]
    },
    {
      "cell_type": "code",
      "source": [
        "c = 0\n",
        "for i in range (1,2500,1): # 1+2+3+4 = 10\n",
        "  c = i + c\n",
        "print(c)"
      ],
      "metadata": {
        "colab": {
          "base_uri": "https://localhost:8080/"
        },
        "id": "fY516G66BE5y",
        "outputId": "a42202ea-00b5-49b6-dbc0-69abb9f69ccd"
      },
      "execution_count": null,
      "outputs": [
        {
          "output_type": "stream",
          "name": "stdout",
          "text": [
            "3123750\n"
          ]
        }
      ]
    },
    {
      "cell_type": "code",
      "metadata": {
        "colab": {
          "base_uri": "https://localhost:8080/"
        },
        "id": "KLY400w4J83b",
        "outputId": "997831f4-62d3-46ef-d63e-483026163d9a"
      },
      "source": [
        "sum = 0\n",
        "for i in range(1, 10, 1):  # 1,2,3 ... 9  1+2+3+4+5+6+7+8+9 range(start, end(end-1), difference)\n",
        "    sum = sum + i    #0+1,1+2,3+3,6+4,10+5\n",
        "    print(sum)  # list,tuple ,dict, set, range, ud var"
      ],
      "execution_count": 7,
      "outputs": [
        {
          "output_type": "stream",
          "name": "stdout",
          "text": [
            "1\n",
            "3\n",
            "6\n",
            "10\n",
            "15\n",
            "21\n",
            "28\n",
            "36\n",
            "45\n"
          ]
        }
      ]
    },
    {
      "cell_type": "code",
      "source": [
        "aa = 2\n",
        "for s in range (2,10,2): # 2,4,6,8\n",
        "  s = s**aa\n",
        "  print (s)"
      ],
      "metadata": {
        "colab": {
          "base_uri": "https://localhost:8080/"
        },
        "id": "zSIW3NhPEc8E",
        "outputId": "49539953-443d-4667-8cf0-4f5bf187e692"
      },
      "execution_count": null,
      "outputs": [
        {
          "output_type": "stream",
          "name": "stdout",
          "text": [
            "4\n",
            "16\n",
            "36\n",
            "64\n"
          ]
        }
      ]
    },
    {
      "cell_type": "code",
      "source": [
        "marks = [60,52,0,92,65]\n",
        "tot = 0\n",
        "for i in marks:\n",
        "  tot = tot + i\n",
        "print(tot/5)\n"
      ],
      "metadata": {
        "colab": {
          "base_uri": "https://localhost:8080/"
        },
        "id": "hFosHo3lFXam",
        "outputId": "ff15678e-9bce-4420-f425-05ff2864782c"
      },
      "execution_count": null,
      "outputs": [
        {
          "output_type": "stream",
          "name": "stdout",
          "text": [
            "53.8\n"
          ]
        }
      ]
    },
    {
      "cell_type": "code",
      "source": [
        "d = {6:'gh',8:'jk'}\n",
        "for i,j in d.items():\n",
        "  print(j,i)"
      ],
      "metadata": {
        "colab": {
          "base_uri": "https://localhost:8080/"
        },
        "id": "tI73SN4fGJew",
        "outputId": "2438d4bf-cc99-448d-e2a5-bac227c4d587"
      },
      "execution_count": null,
      "outputs": [
        {
          "output_type": "stream",
          "name": "stdout",
          "text": [
            "gh 6\n",
            "jk 8\n"
          ]
        }
      ]
    },
    {
      "cell_type": "code",
      "source": [
        "pract= 35\n",
        "\n",
        "p = [60,70,80]\n",
        "for x in p:\n",
        "  result = pract + x\n",
        "  print(result)\n",
        "\n",
        "\n"
      ],
      "metadata": {
        "colab": {
          "base_uri": "https://localhost:8080/"
        },
        "id": "_e87qpk_RYeY",
        "outputId": "ce1e05c6-d873-4310-fe3b-0e1f7139b4cf"
      },
      "execution_count": null,
      "outputs": [
        {
          "output_type": "stream",
          "name": "stdout",
          "text": [
            "95\n",
            "105\n",
            "115\n"
          ]
        }
      ]
    },
    {
      "cell_type": "code",
      "metadata": {
        "colab": {
          "base_uri": "https://localhost:8080/"
        },
        "id": "Z8SVQZMYKwlE",
        "outputId": "aed4418f-baa4-481f-c83e-a5546d1e078c"
      },
      "source": [
        "numbers = [1, 2, 3, 4, 5]\n",
        "for i in numbers:\n",
        "    square = i ** 2\n",
        "    print(\"Square of:\", i, \"is:\", square)"
      ],
      "execution_count": null,
      "outputs": [
        {
          "output_type": "stream",
          "name": "stdout",
          "text": [
            "Square of: 1 is: 1\n",
            "Square of: 2 is: 4\n",
            "Square of: 3 is: 9\n",
            "Square of: 4 is: 16\n",
            "Square of: 5 is: 25\n"
          ]
        }
      ]
    },
    {
      "cell_type": "code",
      "metadata": {
        "colab": {
          "base_uri": "https://localhost:8080/"
        },
        "id": "ONVtRsfiK_g2",
        "outputId": "0236c58a-d81c-4b98-bc7f-18fd656c2f3f"
      },
      "source": [
        "n = 5\n",
        "for i in range(1, 11, 1):\n",
        "    # 5 *i (current number)\n",
        "    result = n * i\n",
        "    print(result)"
      ],
      "execution_count": null,
      "outputs": [
        {
          "output_type": "stream",
          "name": "stdout",
          "text": [
            "5\n",
            "10\n",
            "15\n",
            "20\n",
            "25\n",
            "30\n",
            "35\n",
            "40\n",
            "45\n",
            "50\n"
          ]
        }
      ]
    },
    {
      "cell_type": "code",
      "metadata": {
        "colab": {
          "base_uri": "https://localhost:8080/"
        },
        "id": "K6QZfVcBLb2Q",
        "outputId": "ea1bf056-2121-4225-b94d-cd00f5d8c6e2"
      },
      "source": [
        "#while\n",
        "k = 100\n",
        "sum = 10\n",
        "i = 1\n",
        "\n",
        "while i <= k:  #while (condition)\n",
        "  sum = sum+i\n",
        "  i = i+10 #i++\n",
        "print(sum)\n"
      ],
      "execution_count": null,
      "outputs": [
        {
          "output_type": "stream",
          "name": "stdout",
          "text": [
            "470\n"
          ]
        }
      ]
    },
    {
      "cell_type": "code",
      "metadata": {
        "colab": {
          "base_uri": "https://localhost:8080/"
        },
        "id": "CnMtjzP5hPaH",
        "outputId": "f8fc9afe-cec2-45b7-afa5-67b9f837eaea"
      },
      "source": [
        "l= 0\n",
        "while (l < 7):\n",
        "  l=l+1\n",
        "  print( \"hi welcome\")"
      ],
      "execution_count": null,
      "outputs": [
        {
          "output_type": "stream",
          "name": "stdout",
          "text": [
            "hi welcome\n",
            "hi welcome\n",
            "hi welcome\n",
            "hi welcome\n",
            "hi welcome\n",
            "hi welcome\n",
            "hi welcome\n"
          ]
        }
      ]
    },
    {
      "cell_type": "code",
      "metadata": {
        "colab": {
          "base_uri": "https://localhost:8080/"
        },
        "id": "ZyqCVP-Wh9ri",
        "outputId": "939a08fa-1ad1-4ea4-cd74-e1a62242e906"
      },
      "source": [
        "v = [6,8,4,9,8]\n",
        "while v:\n",
        "  print(v.pop())"
      ],
      "execution_count": null,
      "outputs": [
        {
          "output_type": "stream",
          "name": "stdout",
          "text": [
            "8\n",
            "9\n",
            "4\n",
            "8\n",
            "6\n"
          ]
        }
      ]
    },
    {
      "cell_type": "code",
      "metadata": {
        "id": "ZhhjDA1hiYMg",
        "colab": {
          "base_uri": "https://localhost:8080/"
        },
        "outputId": "040aba1b-6d6c-449b-9084-ae17f6168da8"
      },
      "source": [
        "total = 0\n",
        "while total < 2:\n",
        "    total += 1  # equivalent to: `total = total + 1`\n",
        "\n",
        "print(total)  # `total` has the value 2"
      ],
      "execution_count": null,
      "outputs": [
        {
          "output_type": "stream",
          "name": "stdout",
          "text": [
            "2\n"
          ]
        }
      ]
    },
    {
      "cell_type": "code",
      "metadata": {
        "colab": {
          "base_uri": "https://localhost:8080/"
        },
        "id": "E4Bnf0c-CQ9x",
        "outputId": "4687d394-8b23-4939-e7cf-615397fa09b8"
      },
      "source": [
        "n = 5\n",
        "\n",
        "while n > 0:\n",
        "\n",
        "    n -= 1\n",
        "\n",
        "    if n == 2:\n",
        "\n",
        "        break  #clause continue else:\n",
        "\n",
        "    print(n)\n",
        "\n",
        "print('Loop ended.')"
      ],
      "execution_count": null,
      "outputs": [
        {
          "output_type": "stream",
          "name": "stdout",
          "text": [
            "4\n",
            "3\n",
            "Loop ended.\n"
          ]
        }
      ]
    },
    {
      "cell_type": "code",
      "metadata": {
        "colab": {
          "base_uri": "https://localhost:8080/"
        },
        "id": "hBNcYaXX_rLR",
        "outputId": "a146179f-c601-435f-93ac-8da7a96d1ebf"
      },
      "source": [
        "\n",
        "\n",
        "for item in [3,1, 2,  4, 5]:\n",
        "    if item == 3:\n",
        "         print(item, \" ...break!\")\n",
        "         break\n",
        "print(item, \" ...next iteration\")"
      ],
      "execution_count": null,
      "outputs": [
        {
          "output_type": "stream",
          "name": "stdout",
          "text": [
            "3  ...break!\n",
            "3  ...next iteration\n"
          ]
        }
      ]
    },
    {
      "cell_type": "code",
      "metadata": {
        "colab": {
          "base_uri": "https://localhost:8080/"
        },
        "id": "1ZpGYNxBAlm5",
        "outputId": "7bf0a69b-dbfb-46af-95b7-efd9193f730b"
      },
      "source": [
        "for item in [2, 4,3, 6]:\n",
        "     if item == 3:\n",
        "         print(item, \" ...task completed!\")\n",
        "         break\n",
        "     print(item, \" ...next iteration\")\n"
      ],
      "execution_count": null,
      "outputs": [
        {
          "output_type": "stream",
          "name": "stdout",
          "text": [
            "2  ...next iteration\n",
            "4  ...next iteration\n",
            "3  ...task completed!\n"
          ]
        }
      ]
    },
    {
      "cell_type": "code",
      "metadata": {
        "colab": {
          "base_uri": "https://localhost:8080/"
        },
        "id": "8rW_zoxNCBPe",
        "outputId": "0f3bcbe9-2e85-4865-cf7b-517fde28ea6b"
      },
      "source": [
        "n = 5\n",
        "while n > 0:\n",
        "    n -= 1\n",
        "    print(n)\n",
        "else:\n",
        "    print('Loop done.')\n"
      ],
      "execution_count": null,
      "outputs": [
        {
          "output_type": "stream",
          "name": "stdout",
          "text": [
            "4\n",
            "3\n",
            "2\n",
            "1\n",
            "0\n",
            "Loop done.\n"
          ]
        }
      ]
    },
    {
      "cell_type": "code",
      "metadata": {
        "colab": {
          "base_uri": "https://localhost:8080/"
        },
        "id": "Oy9yEj61DlZv",
        "outputId": "0023ebbe-7139-460b-ce91-91bd3f738c78"
      },
      "source": [
        "    i = 1\n",
        "\n",
        "    while True:\n",
        "        print(i)\n",
        "        i = i + 1\n",
        "        if(i > 5):\n",
        "            break"
      ],
      "execution_count": null,
      "outputs": [
        {
          "output_type": "stream",
          "name": "stdout",
          "text": [
            "1\n",
            "2\n",
            "3\n",
            "4\n",
            "5\n"
          ]
        }
      ]
    }
  ]
}