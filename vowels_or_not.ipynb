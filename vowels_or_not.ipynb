{
  "nbformat": 4,
  "nbformat_minor": 0,
  "metadata": {
    "colab": {
      "provenance": [],
      "authorship_tag": "ABX9TyOPL+3RV6E0Q+BAYCbT5bWB",
      "include_colab_link": true
    },
    "kernelspec": {
      "name": "python3",
      "display_name": "Python 3"
    },
    "language_info": {
      "name": "python"
    }
  },
  "cells": [
    {
      "cell_type": "markdown",
      "metadata": {
        "id": "view-in-github",
        "colab_type": "text"
      },
      "source": [
        "<a href=\"https://colab.research.google.com/github/vananthi/python-practice-files/blob/main/vowels_or_not.ipynb\" target=\"_parent\"><img src=\"https://colab.research.google.com/assets/colab-badge.svg\" alt=\"Open In Colab\"/></a>"
      ]
    },
    {
      "cell_type": "code",
      "execution_count": 10,
      "metadata": {
        "id": "NsT_B2enCCas",
        "colab": {
          "base_uri": "https://localhost:8080/"
        },
        "outputId": "71b6a842-be16-4076-d8f1-285f91b081e5"
      },
      "outputs": [
        {
          "output_type": "stream",
          "name": "stdout",
          "text": [
            "please enter achareter in small case:a\n",
            "a is a vowel\n"
          ]
        }
      ],
      "source": [
        "# python program to check whether the given leter is vowel or not\n",
        "vowels=['a','e','i','o','u']\n",
        "ch=input(\"please enter achareter in small case:\")\n",
        "if ch in vowels:\n",
        "  print(ch,\"is a vowel\")\n",
        "else:\n",
        "  print(ch,\"is not a vowels\")"
      ]
    },
    {
      "cell_type": "code",
      "source": [
        "#find the number of vowels in a substring\n",
        "\n",
        "string=input(\"enter the string value:\")\n",
        "count=0\n",
        "string=string.lower()\n",
        "for i in string:\n",
        "  if i=='a' or i=='e' or i=='i' or i=='o' or i=='u':\n",
        "    count=count+1\n",
        "  if count==0:\n",
        "    print('No vowels found')\n",
        "else:\n",
        "    print(\"Total vowels are:\"+str(count))\n"
      ],
      "metadata": {
        "colab": {
          "base_uri": "https://localhost:8080/"
        },
        "id": "IZ9LwXDtNqEh",
        "outputId": "820292b9-550e-452d-f553-d385023afc32"
      },
      "execution_count": 11,
      "outputs": [
        {
          "output_type": "stream",
          "name": "stdout",
          "text": [
            "enter the string value:ananthi\n",
            "Total vowels are:3\n"
          ]
        }
      ]
    },
    {
      "cell_type": "code",
      "source": [
        "\n"
      ],
      "metadata": {
        "colab": {
          "base_uri": "https://localhost:8080/"
        },
        "id": "p92w03nVPsji",
        "outputId": "c0a43a52-8fed-4fe3-914f-312572be3a3c"
      },
      "execution_count": 8,
      "outputs": [
        {
          "output_type": "stream",
          "name": "stdout",
          "text": [
            "Enter the string :ananthi\n",
            "Total vowels are :3\n"
          ]
        }
      ]
    },
    {
      "cell_type": "code",
      "source": [],
      "metadata": {
        "id": "PY9fOGu3QKXk"
      },
      "execution_count": null,
      "outputs": []
    }
  ]
}