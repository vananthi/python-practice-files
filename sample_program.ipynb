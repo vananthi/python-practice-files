{
  "nbformat": 4,
  "nbformat_minor": 0,
  "metadata": {
    "colab": {
      "provenance": [],
      "authorship_tag": "ABX9TyOx8K59dmWSJ3lLGUp8BcJw",
      "include_colab_link": true
    },
    "kernelspec": {
      "name": "python3",
      "display_name": "Python 3"
    },
    "language_info": {
      "name": "python"
    }
  },
  "cells": [
    {
      "cell_type": "markdown",
      "metadata": {
        "id": "view-in-github",
        "colab_type": "text"
      },
      "source": [
        "<a href=\"https://colab.research.google.com/github/vananthi/python-practice-files/blob/main/sample_program.ipynb\" target=\"_parent\"><img src=\"https://colab.research.google.com/assets/colab-badge.svg\" alt=\"Open In Colab\"/></a>"
      ]
    },
    {
      "cell_type": "code",
      "execution_count": 13,
      "metadata": {
        "colab": {
          "base_uri": "https://localhost:8080/"
        },
        "id": "CinRMiLmfdzN",
        "outputId": "ecc12969-3153-460a-9a4b-3ddcb9f84398"
      },
      "outputs": [
        {
          "output_type": "stream",
          "name": "stdout",
          "text": [
            "even count: 5\n",
            "odd count: 5\n"
          ]
        }
      ],
      "source": [
        "#Count the number of odd and even numbers between 1 to 10 and print it.\n",
        "e_count=0\n",
        "o_count=0\n",
        "for i in range(1,11):\n",
        "  if (i%2==0):\n",
        "      e_count=e_count+1\n",
        "\n",
        "  else:\n",
        "      o_count=o_count+1\n",
        "print(\"even count:\",e_count )\n",
        "print(\"odd count:\",o_count)"
      ]
    },
    {
      "cell_type": "code",
      "source": [
        "#write a program read 10 numbers from the keyboard and find their sum and average.\n",
        "a=[]\n",
        "print(\"Enter a 10 numbers:\")\n",
        "for i in range(1,11):\n",
        "  b=int(input(\"enter a value\" + str(i) ))\n",
        "  a.append(b)\n",
        "print(a)\n",
        "sum=0\n",
        "for i in (a):\n",
        "  sum=sum+i\n",
        "print(\"sum:\",sum)\n",
        "print(\"average:\",sum/10)"
      ],
      "metadata": {
        "colab": {
          "base_uri": "https://localhost:8080/"
        },
        "id": "ZGjFGUA10Lz8",
        "outputId": "e38b95b0-8062-40a0-8108-64bf2b6ba7e4"
      },
      "execution_count": 20,
      "outputs": [
        {
          "output_type": "stream",
          "name": "stdout",
          "text": [
            "Enter a 10 numbers:\n",
            "enter a value15\n",
            "enter a value25\n",
            "enter a value35\n",
            "enter a value46\n",
            "enter a value58\n",
            "enter a value69\n",
            "enter a value72\n",
            "enter a value89\n",
            "enter a value94\n",
            "enter a value106\n",
            "[5, 5, 5, 6, 8, 9, 2, 9, 4, 6]\n",
            "sum: 59\n",
            "average: 5.9\n"
          ]
        }
      ]
    },
    {
      "cell_type": "code",
      "source": [],
      "metadata": {
        "id": "u3Npnskb4biK"
      },
      "execution_count": null,
      "outputs": []
    }
  ]
}