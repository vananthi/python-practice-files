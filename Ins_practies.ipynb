{
  "nbformat": 4,
  "nbformat_minor": 0,
  "metadata": {
    "colab": {
      "provenance": [],
      "authorship_tag": "ABX9TyPR5Q1+rD3XZT9a5UAE56Dv",
      "include_colab_link": true
    },
    "kernelspec": {
      "name": "python3",
      "display_name": "Python 3"
    },
    "language_info": {
      "name": "python"
    }
  },
  "cells": [
    {
      "cell_type": "markdown",
      "metadata": {
        "id": "view-in-github",
        "colab_type": "text"
      },
      "source": [
        "<a href=\"https://colab.research.google.com/github/vananthi/python-practice-files/blob/main/Ins_practies.ipynb\" target=\"_parent\"><img src=\"https://colab.research.google.com/assets/colab-badge.svg\" alt=\"Open In Colab\"/></a>"
      ]
    },
    {
      "cell_type": "code",
      "execution_count": 6,
      "metadata": {
        "colab": {
          "base_uri": "https://localhost:8080/"
        },
        "id": "YDzSAiz8pA85",
        "outputId": "8d49fda4-3f59-4278-9670-011f30e951c7"
      },
      "outputs": [
        {
          "output_type": "stream",
          "name": "stdout",
          "text": [
            "The domain choose by you is ['Data Analyst']\n"
          ]
        }
      ],
      "source": [
        "#\n",
        "list=[\"Meachine learning\",\"Data Analyst\",\"Data scientist\",\"Cyper security\"]\n",
        "target=\"Data Analyst\"\n",
        "list=[i for i in list if i==target]\n",
        "print(\"The domain choose by you is\",list)\n",
        "\n",
        ""
      ]
    },
    {
      "cell_type": "code",
      "source": [
        "#\n",
        "user_goal=input(\"Enter your  saparted by comma:\")\n",
        "goals=sorted(user_goal.split(\",\"))\n",
        "print(goals)\n"
      ],
      "metadata": {
        "colab": {
          "base_uri": "https://localhost:8080/"
        },
        "id": "AjxK3M2Htrq0",
        "outputId": "9c044d1d-83f8-4399-9cf3-35aebf283f93"
      },
      "execution_count": 11,
      "outputs": [
        {
          "output_type": "stream",
          "name": "stdout",
          "text": [
            "Enter your  saparted by comma:good posistion,flying the world,bike ride\n",
            "['bike ride', 'flying the world', 'good posistion']\n"
          ]
        }
      ]
    },
    {
      "cell_type": "code",
      "source": [
        "import math\n",
        "print(math.factorial(4))"
      ],
      "metadata": {
        "colab": {
          "base_uri": "https://localhost:8080/"
        },
        "id": "-93EsojG3YAL",
        "outputId": "0dc57176-f2b6-4482-9f7b-f32b2b7e4996"
      },
      "execution_count": 18,
      "outputs": [
        {
          "output_type": "stream",
          "name": "stdout",
          "text": [
            "24\n"
          ]
        }
      ]
    }
  ]
}