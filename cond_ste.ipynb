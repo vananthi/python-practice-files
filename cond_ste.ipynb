{
  "nbformat": 4,
  "nbformat_minor": 0,
  "metadata": {
    "colab": {
      "provenance": [],
      "authorship_tag": "ABX9TyPPxoWaCxZOoeyTk039zGCN",
      "include_colab_link": true
    },
    "kernelspec": {
      "name": "python3",
      "display_name": "Python 3"
    },
    "language_info": {
      "name": "python"
    }
  },
  "cells": [
    {
      "cell_type": "markdown",
      "metadata": {
        "id": "view-in-github",
        "colab_type": "text"
      },
      "source": [
        "<a href=\"https://colab.research.google.com/github/vananthi/python-practice-files/blob/main/cond_ste.ipynb\" target=\"_parent\"><img src=\"https://colab.research.google.com/assets/colab-badge.svg\" alt=\"Open In Colab\"/></a>"
      ]
    },
    {
      "cell_type": "code",
      "source": [
        "# condition statement to use in (memership operator)\n",
        "vowels=(\"a,e,i,o,u\")\n",
        "ch=input(\"please enter the character in small case\")\n",
        "if ch in vowels:\n",
        "  print(ch,\"is a vowels\")\n",
        "else:\n",
        "  print(ch,\"is a constant\")"
      ],
      "metadata": {
        "colab": {
          "base_uri": "https://localhost:8080/"
        },
        "id": "qr1Sz6jZSyls",
        "outputId": "e5344536-a767-422e-a176-dc064414d2dc"
      },
      "execution_count": null,
      "outputs": [
        {
          "output_type": "stream",
          "name": "stdout",
          "text": [
            "please enter the character in small casew\n",
            "w is a constant\n"
          ]
        }
      ]
    }
  ]
}